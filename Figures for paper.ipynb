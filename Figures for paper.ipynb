{
 "cells": [
  {
   "cell_type": "code",
   "execution_count": 41,
   "metadata": {},
   "outputs": [],
   "source": [
    "%config InlineBackend.figure_formats = ['svg']\n",
    "import numpy as np\n",
    "import matplotlib.pyplot as plt\n",
    "from maps.basic_map import BasicMap\n",
    "from scenario import Scenario\n",
    "from person.random_walk_lost_person import RandomWalkLostPerson\n",
    "from person.distribution import GridDistribution\n",
    "np.random.seed(0)"
   ]
  },
  {
   "cell_type": "code",
   "execution_count": 58,
   "metadata": {},
   "outputs": [],
   "source": [
    "N = 35\n",
    "start = (3, 4)"
   ]
  },
  {
   "cell_type": "code",
   "execution_count": 59,
   "metadata": {},
   "outputs": [],
   "source": [
    "grid = BasicMap(N, N)\n",
    "walker = RandomWalkLostPerson(grid)\n",
    "walker.init(start)"
   ]
  },
  {
   "cell_type": "code",
   "execution_count": 60,
   "metadata": {},
   "outputs": [],
   "source": [
    "dist = GridDistribution(walker, grid, 101, 10000)\n",
    "dist.run()"
   ]
  },
  {
   "cell_type": "code",
   "execution_count": 61,
   "metadata": {},
   "outputs": [
    {
     "data": {
      "image/svg+xml": [
       "<?xml version=\"1.0\" encoding=\"utf-8\" standalone=\"no\"?>\n",
       "<!DOCTYPE svg PUBLIC \"-//W3C//DTD SVG 1.1//EN\"\n",
       "  \"http://www.w3.org/Graphics/SVG/1.1/DTD/svg11.dtd\">\n",
       "<!-- Created with matplotlib (https://matplotlib.org/) -->\n",
       "<svg height=\"231.84pt\" version=\"1.1\" viewBox=\"0 0 231.84 231.84\" width=\"231.84pt\" xmlns=\"http://www.w3.org/2000/svg\" xmlns:xlink=\"http://www.w3.org/1999/xlink\">\n",
       " <defs>\n",
       "  <style type=\"text/css\">\n",
       "*{stroke-linecap:butt;stroke-linejoin:round;}\n",
       "  </style>\n",
       " </defs>\n",
       " <g id=\"figure_1\">\n",
       "  <g id=\"patch_1\">\n",
       "   <path d=\"M 0 231.84 \n",
       "L 231.84 231.84 \n",
       "L 231.84 0 \n",
       "L 0 0 \n",
       "z\n",
       "\" style=\"fill:none;\"/>\n",
       "  </g>\n",
       "  <g id=\"axes_1\">\n",
       "   <g clip-path=\"url(#pd61426ea0f)\">\n",
       "    <image height=\"218\" id=\"image7883c28b63\" transform=\"scale(1 -1)translate(0 -218)\" width=\"218\" x=\"7.2\" xlink:href=\"data:image/png;base64,\n",
       "iVBORw0KGgoAAAANSUhEUgAAANoAAADaCAYAAADAHVzbAAAABHNCSVQICAgIfAhkiAAABIlJREFUeJzt3cuKHUUAgOE+k5PraGYSJSQiLgQDorhSEMSdG/fiC/hkuvE1VNCNOzcSUbIRlVxMzG1ymZzjC1QJAfMP4vctq6e7ZvNTUFPTvfpo9cl2AZ6rnaP+BeD/QGgQEBoEhAYBoUFAaBAQGgSEBgGhQUBoEBAaBIQGAaFBQGgQEBoEhAYBoUFAaBAQGgSEBgGhQUBoEBAaBIQGAaFBQGgQEBoEhAYBoUFAaBAQGgSEBgGhQUBoEBAaBIQGAaFBQGgQEBoEhAYBoUFAaBAQGgSEBgGhQUBoEBAaBIQGAaFBQGgQEBoEhAYBoUFAaBAQGgSEBgGhQUBoEBAaBIQGAaFBQGgQEBoEhAYBoUFAaBAQGgSEBgGhQUBoEBAaBIQGAaFBQGgQEBoEhAYBoUFAaBAQGgSEBgGhQUBoEBAaBIQGAaFBQGgQEBoEhAYBoUFAaBAQGgSEBgGhQUBoEBAaBIQGAaFBQGgQEBoEhAYBoUFAaBAQGgSEBgGhQUBoEBAaBIQGAaFBQGgQEBoEhAYBoUFAaBAQGgSEBgGhQUBoEBAaBIQGAaFBQGgQEBoEhAYBoUFAaBAQGgSEBgGhQUBoEBAaBIQGAaFBQGgQEBoEhAYBoUFAaBAQGgSEBgGhQUBoEBAaBIQGAaFBQGgQEBoEhAYBoUFAaBAQGgSEBgGhQUBoEBAaBNbPfMdqNb+23T77Pc/yHPiPsqJBQGgQEBoEhAYBoUFgPd0RnO4gzttcrY+NL+xM5tiM59gePpnOMZ1/83R+DxwxKxoEhAYBoUFAaBAQGgSmZx1Xx08Mx3d2T08fttrfG45vj4+nWT14OP75u/emc2wPD4fjm4ODyQ3OTXL0rGgQEBoEhAYBoUFAaBBY75we7yKudneH45tXL0wfdu/1F4bjh6fGZx3XD8c7gi9e+Ws6x+r6n8Pxnc1mOL55PDk36WwkISsaBIQGAaFBQGgQEBoEhAaB9Wwbf7lwfjh86+2z04dd+3B84Pfk/vjw8NOr4z8H3L80nntZluXiV5MLD8aHileTQ8jb8V8D4LmwokFAaBAQGgSEBgGhQWC97I13/u5e3h+O33xn/rBP3/t+OP7x2R+G45+/9sFw/Jvv3prOcf7H8S7pqdvj3dCns1ccQMiKBgGhQUBoEBAaBIQGgfV299TwwsFL4wa3F8fnFpdlWT47/+1w/PLx8U7hT3u/DMe/fvmN6Rz3Xjk5HD/5x3j3dLl+Yzz+9B9eZeClq/zLrGgQEBoEhAYBoUFAaBBYrw4eDy+cuTHelbt1fbzrtyzL8sWt94fjb57+bfysw/Fu5OrG+JNRy7IsZ66NX4g6+wTU6tj4A/ZbO4uErGgQEBoEhAYBoUFAaBAQGgTWq/vjf/Xf/fnOcHzv0rnpw7688O5w/PiJ8UtMn/w63t4/8/u8/5M3Jq8mmHwHbfPw0fRZULGiQUBoEBAaBIQGAaFBYL25c3d4YWdn3OC5K5PPPC3LcuLO+MDxo/3Tw/G9u+ODvWevzl96euzm+Pfd3Lo9vQeOmhUNAkKDgNAgIDQICA0CfwMOuooq52QLAwAAAABJRU5ErkJggg==\" y=\"-6.64\"/>\n",
       "   </g>\n",
       "  </g>\n",
       " </g>\n",
       " <defs>\n",
       "  <clipPath id=\"pd61426ea0f\">\n",
       "   <rect height=\"217.44\" width=\"217.44\" x=\"7.2\" y=\"7.2\"/>\n",
       "  </clipPath>\n",
       " </defs>\n",
       "</svg>\n"
      ],
      "text/plain": [
       "<Figure size 432x288 with 1 Axes>"
      ]
     },
     "metadata": {
      "needs_background": "light"
     },
     "output_type": "display_data"
    },
    {
     "data": {
      "image/svg+xml": [
       "<?xml version=\"1.0\" encoding=\"utf-8\" standalone=\"no\"?>\n",
       "<!DOCTYPE svg PUBLIC \"-//W3C//DTD SVG 1.1//EN\"\n",
       "  \"http://www.w3.org/Graphics/SVG/1.1/DTD/svg11.dtd\">\n",
       "<!-- Created with matplotlib (https://matplotlib.org/) -->\n",
       "<svg height=\"231.84pt\" version=\"1.1\" viewBox=\"0 0 231.84 231.84\" width=\"231.84pt\" xmlns=\"http://www.w3.org/2000/svg\" xmlns:xlink=\"http://www.w3.org/1999/xlink\">\n",
       " <defs>\n",
       "  <style type=\"text/css\">\n",
       "*{stroke-linecap:butt;stroke-linejoin:round;}\n",
       "  </style>\n",
       " </defs>\n",
       " <g id=\"figure_1\">\n",
       "  <g id=\"patch_1\">\n",
       "   <path d=\"M 0 231.84 \n",
       "L 231.84 231.84 \n",
       "L 231.84 0 \n",
       "L 0 0 \n",
       "z\n",
       "\" style=\"fill:none;\"/>\n",
       "  </g>\n",
       "  <g id=\"axes_1\">\n",
       "   <g clip-path=\"url(#pce9fd12d71)\">\n",
       "    <image height=\"218\" id=\"imagef19507a786\" transform=\"scale(1 -1)translate(0 -218)\" width=\"218\" x=\"7.2\" xlink:href=\"data:image/png;base64,\n",
       "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\" y=\"-6.64\"/>\n",
       "   </g>\n",
       "  </g>\n",
       " </g>\n",
       " <defs>\n",
       "  <clipPath id=\"pce9fd12d71\">\n",
       "   <rect height=\"217.44\" width=\"217.44\" x=\"7.2\" y=\"7.2\"/>\n",
       "  </clipPath>\n",
       " </defs>\n",
       "</svg>\n"
      ],
      "text/plain": [
       "<Figure size 432x288 with 1 Axes>"
      ]
     },
     "metadata": {
      "needs_background": "light"
     },
     "output_type": "display_data"
    },
    {
     "data": {
      "image/svg+xml": [
       "<?xml version=\"1.0\" encoding=\"utf-8\" standalone=\"no\"?>\n",
       "<!DOCTYPE svg PUBLIC \"-//W3C//DTD SVG 1.1//EN\"\n",
       "  \"http://www.w3.org/Graphics/SVG/1.1/DTD/svg11.dtd\">\n",
       "<!-- Created with matplotlib (https://matplotlib.org/) -->\n",
       "<svg height=\"231.84pt\" version=\"1.1\" viewBox=\"0 0 231.84 231.84\" width=\"231.84pt\" xmlns=\"http://www.w3.org/2000/svg\" xmlns:xlink=\"http://www.w3.org/1999/xlink\">\n",
       " <defs>\n",
       "  <style type=\"text/css\">\n",
       "*{stroke-linecap:butt;stroke-linejoin:round;}\n",
       "  </style>\n",
       " </defs>\n",
       " <g id=\"figure_1\">\n",
       "  <g id=\"patch_1\">\n",
       "   <path d=\"M 0 231.84 \n",
       "L 231.84 231.84 \n",
       "L 231.84 0 \n",
       "L 0 0 \n",
       "z\n",
       "\" style=\"fill:none;\"/>\n",
       "  </g>\n",
       "  <g id=\"axes_1\">\n",
       "   <g clip-path=\"url(#p62988d16f9)\">\n",
       "    <image height=\"218\" id=\"image5073e80fdb\" transform=\"scale(1 -1)translate(0 -218)\" width=\"218\" x=\"7.2\" xlink:href=\"data:image/png;base64,\n",
       "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\" y=\"-6.64\"/>\n",
       "   </g>\n",
       "  </g>\n",
       " </g>\n",
       " <defs>\n",
       "  <clipPath id=\"p62988d16f9\">\n",
       "   <rect height=\"217.44\" width=\"217.44\" x=\"7.2\" y=\"7.2\"/>\n",
       "  </clipPath>\n",
       " </defs>\n",
       "</svg>\n"
      ],
      "text/plain": [
       "<Figure size 432x288 with 1 Axes>"
      ]
     },
     "metadata": {
      "needs_background": "light"
     },
     "output_type": "display_data"
    }
   ],
   "source": [
    "for step in (10, 25, 100):\n",
    "    fig, ax = plt.subplots()\n",
    "    ax.axis('off')\n",
    "    ax.imshow(dist.at_step(step))\n",
    "    plt.savefig(f'35x25_dist_step_{step}.pdf', bbox_inches='tight')"
   ]
  },
  {
   "cell_type": "code",
   "execution_count": null,
   "metadata": {},
   "outputs": [],
   "source": []
  }
 ],
 "metadata": {
  "kernelspec": {
   "display_name": "Python 3",
   "language": "python",
   "name": "python3"
  },
  "language_info": {
   "codemirror_mode": {
    "name": "ipython",
    "version": 3
   },
   "file_extension": ".py",
   "mimetype": "text/x-python",
   "name": "python",
   "nbconvert_exporter": "python",
   "pygments_lexer": "ipython3",
   "version": "3.8.0"
  }
 },
 "nbformat": 4,
 "nbformat_minor": 4
}
